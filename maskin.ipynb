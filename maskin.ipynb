{
 "cells": [
  {
   "cell_type": "code",
   "execution_count": null,
   "metadata": {},
   "outputs": [],
   "source": [
    "import xarray as xr\n",
    "import geopandas as gpd\n",
    "import numpy as np\n",
    "\n",
    "# Load your 3D dataset (assuming it's in NetCDF format)\n",
    "ds = JANMAX_filt_masked  # Replace with your actual file\n",
    "\n",
    "# Load the shapefile (e.g., area of interest)\n",
    "shapefile = gpd.read_file(\"JK/JKSHAPEFILE.shp\")  # Replace with your actual shapefile path\n",
    "\n",
    "# Extract lat/lon coordinates from your dataset\n",
    "lat = ds.latitude.values\n",
    "lon = ds.longitude.values\n",
    "\n",
    "# Create a meshgrid of lat/lon coordinates\n",
    "lon_grid, lat_grid = np.meshgrid(lon, lat)\n",
    "\n",
    "# Get the boundary geometry of the shapefile\n",
    "boundary = shapefile.geometry.unary_union\n",
    "\n",
    "# Create a mask based on the boundary using the lat/lon grid\n",
    "from shapely.geometry import Point\n",
    "\n",
    "# Create a boolean mask for points inside the shapefile boundary\n",
    "mask = np.array([[boundary.contains(Point(lon_val, lat_val)) for lon_val in lon] for lat_val in lat])\n",
    "\n",
    "# Mask the dataset by applying the mask\n",
    "masked_data = ds.where(mask)\n",
    "\n",
    "# Optional: Convert the masked data to NaN where the mask is False\n",
    "masked_data_JK = masked_data.fillna(np.nan)\n"
   ]
  }
 ],
 "metadata": {
  "language_info": {
   "name": "python"
  }
 },
 "nbformat": 4,
 "nbformat_minor": 2
}
